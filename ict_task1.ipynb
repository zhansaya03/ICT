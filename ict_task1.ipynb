{
 "cells": [
  {
   "cell_type": "code",
   "execution_count": 1,
   "metadata": {},
   "outputs": [
    {
     "name": "stdout",
     "output_type": "stream",
     "text": [
      "Name:  Zhansaya\n",
      "Address: zhansayadaryn1831@gmail.com\n"
     ]
    }
   ],
   "source": [
    "name = \"Zhansaya\"\n",
    "address = \"zhansayadaryn1831@gmail.com\"\n",
    "print(\"Name:  {}\\nAddress: {}\".format(name, address))"
   ]
  },
  {
   "cell_type": "code",
   "execution_count": 2,
   "metadata": {},
   "outputs": [
    {
     "name": "stdout",
     "output_type": "stream",
     "text": [
      "Enter your name: Zhansaya\n",
      "Welcome Zhansaya\n"
     ]
    }
   ],
   "source": [
    "name = input('Enter your name: ')\n",
    "print(\"Welcome\", name)"
   ]
  },
  {
   "cell_type": "code",
   "execution_count": 3,
   "metadata": {},
   "outputs": [
    {
     "name": "stdout",
     "output_type": "stream",
     "text": [
      "Enter length in metres: 3\n",
      "Enter width in metres: 4\n",
      "Area is 12.0 m^2\n"
     ]
    }
   ],
   "source": [
    "a = float(input('Enter length in metres: '))\n",
    "b = float(input('Enter width in metres: '))\n",
    "print('Area is', a*b, 'm^2')"
   ]
  },
  {
   "cell_type": "code",
   "execution_count": 4,
   "metadata": {},
   "outputs": [
    {
     "name": "stdout",
     "output_type": "stream",
     "text": [
      "Enter length in feets: 134\n",
      "Enter width in feets: 179\n",
      "Area is 0.5506427915518824 acres\n"
     ]
    }
   ],
   "source": [
    "a = float(input('Enter length in feets: '))\n",
    "b = float(input('Enter width in feets: '))\n",
    "c = float((a*b)/43560)\n",
    "print('Area is', c, 'acres')"
   ]
  },
  {
   "cell_type": "code",
   "execution_count": 5,
   "metadata": {},
   "outputs": [
    {
     "name": "stdout",
     "output_type": "stream",
     "text": [
      "1 2 3 0.5\n",
      "The total refund for returning the containers is $0.85\n"
     ]
    }
   ],
   "source": [
    "a = list(map(float,input().split()))\n",
    "all = float(0)\n",
    "for i in range (len(a)):\n",
    "    if a[i]<1:\n",
    "        all+=0.10\n",
    "    else:\n",
    "        all+=0.25\n",
    "print(\"The total refund for returning the containers is $\"+ \"{0:.2f}\".format(float(all)))\n"
   ]
  },
  {
   "cell_type": "code",
   "execution_count": 6,
   "metadata": {},
   "outputs": [
    {
     "name": "stdout",
     "output_type": "stream",
     "text": [
      "1000\n",
      "100.00 180.00 1280.00\n"
     ]
    }
   ],
   "source": [
    "a = float(input())\n",
    "n = float((a*10)/100)\n",
    "ch = float((a*18)/100)\n",
    "print(\"{0:.2f}\".format(float(n)), \"{0:.2f}\".format(float(ch)), \"{0:.2f}\".format(float(a+n+ch)))"
   ]
  },
  {
   "cell_type": "code",
   "execution_count": 7,
   "metadata": {},
   "outputs": [
    {
     "name": "stdout",
     "output_type": "stream",
     "text": [
      "5\n",
      "15\n"
     ]
    }
   ],
   "source": [
    "n = int(input())\n",
    "print(int((n*(n+1)/2)))"
   ]
  },
  {
   "cell_type": "code",
   "execution_count": 8,
   "metadata": {},
   "outputs": [
    {
     "name": "stdout",
     "output_type": "stream",
     "text": [
      "7\n",
      "8\n",
      "1421\n"
     ]
    }
   ],
   "source": [
    "a = int(input())\n",
    "b = int(input())\n",
    "print(int(a*75 + b*112))"
   ]
  },
  {
   "cell_type": "code",
   "execution_count": 9,
   "metadata": {},
   "outputs": [
    {
     "name": "stdout",
     "output_type": "stream",
     "text": [
      "1000000\n",
      "The savings after 1 year is 1040000.00\n",
      "The savings after 2 year is 1081600.00\n",
      "The savings after 3 year is 1124864.00\n"
     ]
    }
   ],
   "source": [
    "n = int(input()) \n",
    "m1 = float(n*4/100+n) \n",
    "m2 = float(m1*4/100+m1) \n",
    "m3 = float(m2*4/100+m2) \n",
    "print(\"The savings after 1 year is\",\"{:.2f}\".format(float(m1))) \n",
    "print(\"The savings after 2 year is\",\"{:.2f}\".format(float(m2))) \n",
    "print(\"The savings after 3 year is\",\"{:.2f}\".format(float(m3)))"
   ]
  },
  {
   "cell_type": "code",
   "execution_count": 10,
   "metadata": {},
   "outputs": [
    {
     "name": "stdout",
     "output_type": "stream",
     "text": [
      "6\n",
      "3\n",
      "The sum of a and b is 18\n",
      "The difference when b is subtracted from a is 3\n",
      "The product of a and b is 18\n",
      "The quotient when a is divided by b is 2\n",
      "The remainder when a is divided by b is 0\n",
      "The result of log10 a is 1.791759469228055\n",
      "The result of ab is 63\n"
     ]
    }
   ],
   "source": [
    "import math\n",
    "a = int(input())\n",
    "b = int(input())\n",
    "print(\"The sum of a and b is \" + str(a*b))\n",
    "print('The difference when b is subtracted from a is '+ str(a-b))\n",
    "print('The product of a and b is '+ str(a*b))\n",
    "print('The quotient when a is divided by b is ' + str(a//b))\n",
    "print('The remainder when a is divided by b is ' + str(a%b))\n",
    "print('The result of log10 a is '+ str(math.log(a)))\n",
    "print('The result of ab is '+ str(a) + str(b))"
   ]
  },
  {
   "cell_type": "code",
   "execution_count": 11,
   "metadata": {},
   "outputs": [
    {
     "name": "stdout",
     "output_type": "stream",
     "text": [
      "24\n",
      "24 mpg in litres 9.80 L/100km\n"
     ]
    }
   ],
   "source": [
    "mpg = int(input())\n",
    "print(mpg, 'mpg in litres', \"{0:.2f}\".format(float(235.215/mpg)), \"L/100km\")"
   ]
  },
  {
   "cell_type": "code",
   "execution_count": 12,
   "metadata": {},
   "outputs": [
    {
     "name": "stdout",
     "output_type": "stream",
     "text": [
      "Enter t1: 23\n",
      "Enter g1: 87\n",
      "Enter t2: 12\n",
      "Enter g2: 67\n",
      "2443.855794555538\n"
     ]
    }
   ],
   "source": [
    "import math\n",
    "t1 = int(input('Enter t1: '))\n",
    "g1 = int(input('Enter g1: '))\n",
    "t2 = int(input('Enter t2: '))\n",
    "g2 = int(input('Enter g2: '))\n",
    "t1 = math.radians(t1)\n",
    "t2 = math.radians(t2)\n",
    "L = math.radians(g1-g2)\n",
    "print(6371.01*(math.acos(math.sin(t1)*math.sin(t2)+math.cos(t1)*math.cos(t2)*math.cos(L))))"
   ]
  },
  {
   "cell_type": "code",
   "execution_count": 13,
   "metadata": {},
   "outputs": [
    {
     "name": "stdout",
     "output_type": "stream",
     "text": [
      "6\n",
      "3\n"
     ]
    }
   ],
   "source": [
    "n = float(input()) \n",
    "m = n*100 \n",
    "cnt = 0 \n",
    "while(m!=0): \n",
    "    if(m>=200): \n",
    "        m-=200 \n",
    "        cnt+=1 \n",
    "    if(m>=100 and m<200): \n",
    "        m-=100 \n",
    "        cnt+=1 \n",
    "    if(m>=25 and m<100): \n",
    "        m-=25 \n",
    "        cnt+=1 \n",
    "    if(m>=10 and m<25): \n",
    "        m-=10 \n",
    "        cnt+=1 \n",
    "    if(m>=5 and m<10): \n",
    "        m-=5 \n",
    "        cnt+=1 \n",
    "    if(m>=1 and m<5): \n",
    "        m-=1 \n",
    "        cnt+=1 \n",
    "print(cnt)"
   ]
  },
  {
   "cell_type": "code",
   "execution_count": 14,
   "metadata": {},
   "outputs": [
    {
     "name": "stdout",
     "output_type": "stream",
     "text": [
      "5 6 7\n",
      "55 60 65\n",
      "Your heigth is feet 152.4 cm\n",
      "Your heigth is feet 182.88 cm\n",
      "Your heigth is feet 213.36 cm\n",
      "Your heith is inches 139.7 cm\n",
      "Your heith is inches 152.4 cm\n",
      "Your heith is inches 165.1 cm\n"
     ]
    }
   ],
   "source": [
    "a = list(map(int,input().split())) \n",
    "b= list(map(int,input().split())) \n",
    "for i in range(len(a)): \n",
    "    print(\"Your heigth is feet\",a[i]*12*2.54,\"cm\") \n",
    "for j in range(len(b)): \n",
    "    print(\"Your heith is inches\",b[j]*2.54,\"cm\")"
   ]
  },
  {
   "cell_type": "code",
   "execution_count": 15,
   "metadata": {},
   "outputs": [
    {
     "name": "stdout",
     "output_type": "stream",
     "text": [
      "10000\n",
      "distance in inches 120000.000\n",
      "distance in yards 3333.333\n",
      "distance in miles 1.894\n"
     ]
    }
   ],
   "source": [
    "a = list(map(int,input().split()))\n",
    "for i in range (len(a)):\n",
    "    print('distance in inches',\"{0:.3f}\".format(float(a[i]*12)))\n",
    "    print('distance in yards',\"{0:.3f}\".format(float(a[i]/3)))\n",
    "    print('distance in miles',\"{0:.3f}\".format(float(a[i]/5280)))"
   ]
  },
  {
   "cell_type": "code",
   "execution_count": 16,
   "metadata": {},
   "outputs": [
    {
     "name": "stdout",
     "output_type": "stream",
     "text": [
      "3\n",
      "Area of a circle  28.274333882308138\n",
      "Volume of a sphere  113.09733552923255\n"
     ]
    }
   ],
   "source": [
    "import math\n",
    "r = int(input())\n",
    "print(\"Area of a circle \", math.pi*r*r)\n",
    "print(\"Volume of a sphere \", (4/3)*math.pi*r*r*r)"
   ]
  },
  {
   "cell_type": "code",
   "execution_count": 17,
   "metadata": {},
   "outputs": [
    {
     "name": "stdout",
     "output_type": "stream",
     "text": [
      "0.25\n",
      "75\n",
      "Energy is  78487.5\n",
      "It costs 0.19621875 cents\n"
     ]
    }
   ],
   "source": [
    "m = float(input()) #in litres\n",
    "t = float(input()) #standard delta 75\n",
    "q = 4186 * m * t\n",
    "print(\"Energy is \", q)\n",
    "print(\"It costs\", (9*q)/3600000,'cents' )\n",
    "#стоимость чашки чая 250 мл "
   ]
  },
  {
   "cell_type": "code",
   "execution_count": 18,
   "metadata": {},
   "outputs": [
    {
     "name": "stdout",
     "output_type": "stream",
     "text": [
      "3\n",
      "4\n",
      "Volume of a cylinder  113.1\n"
     ]
    }
   ],
   "source": [
    "import math\n",
    "r = int(input())\n",
    "h = int(input())\n",
    "print(\"Volume of a cylinder \",\"{0:.1f}\".format(float(math.pi*r*r*h)))"
   ]
  },
  {
   "cell_type": "code",
   "execution_count": 19,
   "metadata": {},
   "outputs": [
    {
     "name": "stdout",
     "output_type": "stream",
     "text": [
      "5\n",
      "Final speed  98.0\n"
     ]
    }
   ],
   "source": [
    "a = 9.8\n",
    "h = float(input())\n",
    "V = 2*a*h\n",
    "print('Final speed ', V)"
   ]
  },
  {
   "cell_type": "code",
   "execution_count": 20,
   "metadata": {},
   "outputs": [
    {
     "name": "stdout",
     "output_type": "stream",
     "text": [
      "98.52208659927209\n"
     ]
    }
   ],
   "source": [
    "p = 20000000\n",
    "v = 0.012\n",
    "T = 293\n",
    "R = 8.314\n",
    "n = (p * v)/(R*T)\n",
    "print(n)"
   ]
  },
  {
   "cell_type": "code",
   "execution_count": 21,
   "metadata": {},
   "outputs": [
    {
     "name": "stdout",
     "output_type": "stream",
     "text": [
      "5\n",
      "6\n",
      "Area of a triangle  15.0\n"
     ]
    }
   ],
   "source": [
    "b = int(input())\n",
    "h = int(input())\n",
    "s = b*h/2\n",
    "print('Area of a triangle ', s)"
   ]
  },
  {
   "cell_type": "code",
   "execution_count": 22,
   "metadata": {},
   "outputs": [
    {
     "name": "stdout",
     "output_type": "stream",
     "text": [
      "4\n",
      "5\n",
      "6\n",
      "9.921567416492215\n"
     ]
    }
   ],
   "source": [
    "import math\n",
    "s1 = int(input())\n",
    "s2 = int(input())\n",
    "s3 = int(input())\n",
    "p = (s1 + s2 + s3)/2\n",
    "S = math.sqrt(p*(p-s1)*(p-s2)*(p-s3)) \n",
    "print(S)"
   ]
  },
  {
   "cell_type": "code",
   "execution_count": 23,
   "metadata": {},
   "outputs": [
    {
     "name": "stdout",
     "output_type": "stream",
     "text": [
      "5\n",
      "6\n",
      "21.650635094610966\n"
     ]
    }
   ],
   "source": [
    "import math\n",
    "s = int(input())\n",
    "n = int(input())\n",
    "print(n*s*s/4*math.tan(math.pi/n))\n"
   ]
  },
  {
   "cell_type": "code",
   "execution_count": 24,
   "metadata": {},
   "outputs": [
    {
     "name": "stdout",
     "output_type": "stream",
     "text": [
      "Enter day: 1\n",
      "Enter hour: 5\n",
      "Enter minute: 24\n",
      "Enter second: 36\n",
      "105876 seconds\n"
     ]
    }
   ],
   "source": [
    "d = int(input('Enter day: '))\n",
    "h = int(input('Enter hour: '))\n",
    "m = int(input('Enter minute: '))\n",
    "s = int(input('Enter second: '))\n",
    "print(d*86400 + h*3600 + m*60 +s, \"seconds\")"
   ]
  },
  {
   "cell_type": "code",
   "execution_count": 25,
   "metadata": {},
   "outputs": [
    {
     "name": "stdout",
     "output_type": "stream",
     "text": [
      "105936\n",
      "1:05:25:36\n",
      "36:"
     ]
    }
   ],
   "source": [
    "s = int(input()) \n",
    "d = int() \n",
    "h = int() \n",
    "m = int() \n",
    "sec = int() \n",
    "a = [] \n",
    "while(s>0): \n",
    "    if(s>=86400): \n",
    "        d+=1 \n",
    "        s-=86400 \n",
    "    if(s>=3600 and s<86400): \n",
    "        h+=1 \n",
    "        s-=3600 \n",
    "    if(s>=60 and s<3600): \n",
    "        m+=1 \n",
    "        s-=60 \n",
    "    if(s>=0 and s<60): \n",
    "        sec+=s \n",
    "        a.append(d) \n",
    "        a.append(h) \n",
    "        a.append(m) \n",
    "        a.append(sec)         \n",
    "        break \n",
    "print(d,end=\":\") \n",
    "for i in range(1,len(a)): \n",
    "    if i==len(a)-1: \n",
    "        if a[i]>=10: \n",
    "            print(str(a[i])) \n",
    "            exit() \n",
    "        else: \n",
    "            print(\"0\"+str(a[i])) \n",
    "            exit() \n",
    "    if a[i]<10: \n",
    "        print(\"0\"+str(a[i]),end=\":\") \n",
    "    else: \n",
    "        print(str(a[i]),end=\":\")  "
   ]
  },
  {
   "cell_type": "code",
   "execution_count": null,
   "metadata": {},
   "outputs": [],
   "source": [
    "import time\n",
    "t = time.localtime()\n",
    "print(time.asctime(t))"
   ]
  },
  {
   "cell_type": "code",
   "execution_count": 2,
   "metadata": {},
   "outputs": [
    {
     "name": "stdout",
     "output_type": "stream",
     "text": [
      "50\n",
      "1.65\n",
      "18.36547291092746\n"
     ]
    }
   ],
   "source": [
    "w = float(input())\n",
    "h = float(input())\n",
    "BMI = w/(h*h)\n",
    "print(BMI)"
   ]
  },
  {
   "cell_type": "code",
   "execution_count": 3,
   "metadata": {},
   "outputs": [
    {
     "name": "stdout",
     "output_type": "stream",
     "text": [
      "5\n",
      "7\n",
      "3.4111123022784953\n"
     ]
    }
   ],
   "source": [
    "t = float(input())\n",
    "v = float(input())\n",
    "WCI =13.12+0.6215*t-11.37*(v**0.16)+0.3965*t* (v**0.16)\n",
    "print(WCI)\n"
   ]
  },
  {
   "cell_type": "code",
   "execution_count": 4,
   "metadata": {},
   "outputs": [
    {
     "name": "stdout",
     "output_type": "stream",
     "text": [
      "56\n",
      "Farenheit 121.6\n",
      "Kelvin 329.0\n"
     ]
    }
   ],
   "source": [
    "c = float(input())\n",
    "f = (c*8)/5+32\n",
    "k = c + 273\n",
    "print('Farenheit', f)\n",
    "print('Kelvin', k)"
   ]
  },
  {
   "cell_type": "code",
   "execution_count": 5,
   "metadata": {},
   "outputs": [
    {
     "name": "stdout",
     "output_type": "stream",
     "text": [
      "10000000\n",
      "1450326.3234227702 pounds per square inch\n",
      "75000000.0 milimetres of mercury\n",
      "99009.900990099 atmosphere\n"
     ]
    }
   ],
   "source": [
    "p = int(input()) \n",
    "print(p/6.895,\"pounds per square inch\") \n",
    "print(p*7.5,\"milimetres of mercury\") \n",
    "print(p/101,\"atmosphere\")"
   ]
  },
  {
   "cell_type": "code",
   "execution_count": 6,
   "metadata": {},
   "outputs": [
    {
     "name": "stdout",
     "output_type": "stream",
     "text": [
      "3984\n",
      "24\n"
     ]
    }
   ],
   "source": [
    "a = int(input())\n",
    "b = a//1000 \n",
    "a = a - b*1000\n",
    "c = a//100\n",
    "a = a - c*100\n",
    "d = a//10\n",
    "a = a - d*10\n",
    "e = b + c + d +a\n",
    "print(e)\n"
   ]
  },
  {
   "cell_type": "code",
   "execution_count": 7,
   "metadata": {},
   "outputs": [
    {
     "name": "stdout",
     "output_type": "stream",
     "text": [
      "7 6 5\n",
      "5 6 7\n"
     ]
    }
   ],
   "source": [
    "a = list(map(int,input().split())) \n",
    "maxi = 0 \n",
    "mini = 9999999999 \n",
    "for i in range(3): \n",
    "    if a[i]<mini: \n",
    "        mini = a[i] \n",
    "    if a[i]>maxi: \n",
    "        maxi = a[i] \n",
    "print(mini,sum(a)-maxi-mini,maxi)"
   ]
  },
  {
   "cell_type": "code",
   "execution_count": 8,
   "metadata": {},
   "outputs": [
    {
     "name": "stdout",
     "output_type": "stream",
     "text": [
      "4\n",
      "regular price 13.96\n",
      "discount price 8.376\n"
     ]
    }
   ],
   "source": [
    "a = int(input())\n",
    "b = 3.49\n",
    "c = 2.094\n",
    "print('regular price', a*b)\n",
    "print('discount price', a*c)"
   ]
  },
  {
   "cell_type": "code",
   "execution_count": null,
   "metadata": {},
   "outputs": [],
   "source": []
  }
 ],
 "metadata": {
  "kernelspec": {
   "display_name": "Python 3",
   "language": "python",
   "name": "python3"
  },
  "language_info": {
   "codemirror_mode": {
    "name": "ipython",
    "version": 3
   },
   "file_extension": ".py",
   "mimetype": "text/x-python",
   "name": "python",
   "nbconvert_exporter": "python",
   "pygments_lexer": "ipython3",
   "version": "3.7.6"
  }
 },
 "nbformat": 4,
 "nbformat_minor": 4
}
